{
 "cells": [
  {
   "cell_type": "markdown",
   "id": "bb1d90d2",
   "metadata": {},
   "source": [
    "Getting all packages needed"
   ]
  },
  {
   "cell_type": "code",
   "execution_count": 1,
   "id": "20d38a15",
   "metadata": {},
   "outputs": [],
   "source": [
    "import pandas as pd\n",
    "import numpy as np\n",
    "import datetime\n",
    "from matplotlib.ticker import FuncFormatter\n",
    "import matplotlib.pyplot as plt\n",
    "%matplotlib inline\n",
    "import seaborn as sns\n",
    "import warnings\n",
    "import math as ma\n",
    "warnings.filterwarnings(\"ignore\")"
   ]
  },
  {
   "cell_type": "code",
   "execution_count": 2,
   "id": "cbf06467",
   "metadata": {},
   "outputs": [
    {
     "name": "stdout",
     "output_type": "stream",
     "text": [
      "['Title Sheet', 'Transactions', 'NewCustomerList', 'CustomerDemographic', 'CustomerAddress', 'Sheet1']\n"
     ]
    }
   ],
   "source": [
    "file_name='C:\\\\Users\\\\ADMIN\\\\Downloads\\\\KPMG_VI_New_raw_data_update_final.xlsx'\n",
    "print(pd.ExcelFile(file_name).sheet_names)"
   ]
  },
  {
   "cell_type": "code",
   "execution_count": 3,
   "id": "10a92795",
   "metadata": {},
   "outputs": [
    {
     "data": {
      "text/html": [
       "<div>\n",
       "<style scoped>\n",
       "    .dataframe tbody tr th:only-of-type {\n",
       "        vertical-align: middle;\n",
       "    }\n",
       "\n",
       "    .dataframe tbody tr th {\n",
       "        vertical-align: top;\n",
       "    }\n",
       "\n",
       "    .dataframe thead th {\n",
       "        text-align: right;\n",
       "    }\n",
       "</style>\n",
       "<table border=\"1\" class=\"dataframe\">\n",
       "  <thead>\n",
       "    <tr style=\"text-align: right;\">\n",
       "      <th></th>\n",
       "      <th>first_name</th>\n",
       "      <th>last_name</th>\n",
       "      <th>gender</th>\n",
       "      <th>past_3_years_bike_related_purchases</th>\n",
       "      <th>DOB</th>\n",
       "      <th>Age</th>\n",
       "      <th>job_title</th>\n",
       "      <th>job_industry_category</th>\n",
       "      <th>wealth_segment</th>\n",
       "      <th>deceased_indicator</th>\n",
       "      <th>owns_car</th>\n",
       "      <th>tenure</th>\n",
       "    </tr>\n",
       "    <tr>\n",
       "      <th>customer_id</th>\n",
       "      <th></th>\n",
       "      <th></th>\n",
       "      <th></th>\n",
       "      <th></th>\n",
       "      <th></th>\n",
       "      <th></th>\n",
       "      <th></th>\n",
       "      <th></th>\n",
       "      <th></th>\n",
       "      <th></th>\n",
       "      <th></th>\n",
       "      <th></th>\n",
       "    </tr>\n",
       "  </thead>\n",
       "  <tbody>\n",
       "    <tr>\n",
       "      <th>1</th>\n",
       "      <td>Laraine</td>\n",
       "      <td>Medendorp</td>\n",
       "      <td>Female</td>\n",
       "      <td>93</td>\n",
       "      <td>1953-10-12</td>\n",
       "      <td>68.169821</td>\n",
       "      <td>Executive Secretary</td>\n",
       "      <td>Health</td>\n",
       "      <td>Mass Customer</td>\n",
       "      <td>N</td>\n",
       "      <td>Yes</td>\n",
       "      <td>11.0</td>\n",
       "    </tr>\n",
       "    <tr>\n",
       "      <th>2</th>\n",
       "      <td>Eli</td>\n",
       "      <td>Bockman</td>\n",
       "      <td>Male</td>\n",
       "      <td>81</td>\n",
       "      <td>1980-12-16</td>\n",
       "      <td>40.972561</td>\n",
       "      <td>Administrative Officer</td>\n",
       "      <td>Financial Services</td>\n",
       "      <td>Mass Customer</td>\n",
       "      <td>N</td>\n",
       "      <td>Yes</td>\n",
       "      <td>16.0</td>\n",
       "    </tr>\n",
       "    <tr>\n",
       "      <th>3</th>\n",
       "      <td>Arlin</td>\n",
       "      <td>Dearle</td>\n",
       "      <td>Male</td>\n",
       "      <td>61</td>\n",
       "      <td>1954-01-20</td>\n",
       "      <td>67.895848</td>\n",
       "      <td>Recruiting Manager</td>\n",
       "      <td>Property</td>\n",
       "      <td>Mass Customer</td>\n",
       "      <td>N</td>\n",
       "      <td>Yes</td>\n",
       "      <td>15.0</td>\n",
       "    </tr>\n",
       "    <tr>\n",
       "      <th>4</th>\n",
       "      <td>Talbot</td>\n",
       "      <td>NaN</td>\n",
       "      <td>Male</td>\n",
       "      <td>33</td>\n",
       "      <td>1961-10-03</td>\n",
       "      <td>60.188999</td>\n",
       "      <td>NaN</td>\n",
       "      <td>IT</td>\n",
       "      <td>Mass Customer</td>\n",
       "      <td>N</td>\n",
       "      <td>No</td>\n",
       "      <td>7.0</td>\n",
       "    </tr>\n",
       "    <tr>\n",
       "      <th>5</th>\n",
       "      <td>Sheila-kathryn</td>\n",
       "      <td>Calton</td>\n",
       "      <td>Female</td>\n",
       "      <td>56</td>\n",
       "      <td>1977-05-13</td>\n",
       "      <td>44.569821</td>\n",
       "      <td>Senior Editor</td>\n",
       "      <td>NaN</td>\n",
       "      <td>Affluent Customer</td>\n",
       "      <td>N</td>\n",
       "      <td>Yes</td>\n",
       "      <td>8.0</td>\n",
       "    </tr>\n",
       "  </tbody>\n",
       "</table>\n",
       "</div>"
      ],
      "text/plain": [
       "                 first_name  last_name  gender  \\\n",
       "customer_id                                      \n",
       "1                   Laraine  Medendorp  Female   \n",
       "2                       Eli    Bockman    Male   \n",
       "3                     Arlin     Dearle    Male   \n",
       "4                    Talbot        NaN    Male   \n",
       "5            Sheila-kathryn     Calton  Female   \n",
       "\n",
       "             past_3_years_bike_related_purchases        DOB        Age  \\\n",
       "customer_id                                                              \n",
       "1                                             93 1953-10-12  68.169821   \n",
       "2                                             81 1980-12-16  40.972561   \n",
       "3                                             61 1954-01-20  67.895848   \n",
       "4                                             33 1961-10-03  60.188999   \n",
       "5                                             56 1977-05-13  44.569821   \n",
       "\n",
       "                          job_title job_industry_category     wealth_segment  \\\n",
       "customer_id                                                                    \n",
       "1               Executive Secretary                Health      Mass Customer   \n",
       "2            Administrative Officer    Financial Services      Mass Customer   \n",
       "3                Recruiting Manager              Property      Mass Customer   \n",
       "4                               NaN                    IT      Mass Customer   \n",
       "5                     Senior Editor                   NaN  Affluent Customer   \n",
       "\n",
       "            deceased_indicator owns_car  tenure  \n",
       "customer_id                                      \n",
       "1                            N      Yes    11.0  \n",
       "2                            N      Yes    16.0  \n",
       "3                            N      Yes    15.0  \n",
       "4                            N       No     7.0  \n",
       "5                            N      Yes     8.0  "
      ]
     },
     "execution_count": 3,
     "metadata": {},
     "output_type": "execute_result"
    }
   ],
   "source": [
    "data_demo = pd.read_excel(file_name, sheet_name='CustomerDemographic', index_col=0)\n",
    "data_demo.head()"
   ]
  },
  {
   "cell_type": "code",
   "execution_count": 4,
   "id": "700eac56",
   "metadata": {},
   "outputs": [
    {
     "name": "stdout",
     "output_type": "stream",
     "text": [
      "[0, 125, 0, 0, 87, 1, 506, 656, 0, 0, 0, 87] 12\n"
     ]
    }
   ],
   "source": [
    "def check_NA():\n",
    "    ret = []\n",
    "    temp = list(data_demo)\n",
    "    for each in temp:\n",
    "        ret.append(data_demo[each].isna().sum())\n",
    "    return ret\n",
    "\n",
    "NaNlist = check_NA()\n",
    "print(NaNlist, len(NaNlist))\n",
    "# need to check columns\n",
    "check = []\n",
    "k     = -1\n",
    "for i in NaNlist:\n",
    "    k += 1\n",
    "    if i > 0:\n",
    "        check.append(k)\n",
    "def check_unique():\n",
    "    temp = list(data_demo)\n",
    "    mydict = {}\n",
    "    for i in range(3, 13):\n",
    "        ct = 0\n",
    "        if NaNlist[i] > 0:\n",
    "            ct = len(data_demo[temp[i]].unique()) - 1\n",
    "        else:\n",
    "            ct = len(data_demo[temp[i]].unique())\n",
    "        mydict[temp[i]] = (ct, data_demo[temp[i]].unique())\n",
    "    return mydict"
   ]
  },
  {
   "cell_type": "code",
   "execution_count": 5,
   "id": "05f77545",
   "metadata": {},
   "outputs": [
    {
     "data": {
      "text/plain": [
       "(4000, 12)"
      ]
     },
     "execution_count": 5,
     "metadata": {},
     "output_type": "execute_result"
    }
   ],
   "source": [
    "data_demo.shape"
   ]
  },
  {
   "cell_type": "code",
   "execution_count": 6,
   "id": "452cb0f0",
   "metadata": {},
   "outputs": [
    {
     "name": "stdout",
     "output_type": "stream",
     "text": [
      "<class 'pandas.core.frame.DataFrame'>\n",
      "Int64Index: 4000 entries, 1 to 4000\n",
      "Data columns (total 12 columns):\n",
      " #   Column                               Non-Null Count  Dtype         \n",
      "---  ------                               --------------  -----         \n",
      " 0   first_name                           4000 non-null   object        \n",
      " 1   last_name                            3875 non-null   object        \n",
      " 2   gender                               4000 non-null   object        \n",
      " 3   past_3_years_bike_related_purchases  4000 non-null   int64         \n",
      " 4   DOB                                  3913 non-null   datetime64[ns]\n",
      " 5   Age                                  3999 non-null   float64       \n",
      " 6   job_title                            3494 non-null   object        \n",
      " 7   job_industry_category                3344 non-null   object        \n",
      " 8   wealth_segment                       4000 non-null   object        \n",
      " 9   deceased_indicator                   4000 non-null   object        \n",
      " 10  owns_car                             4000 non-null   object        \n",
      " 11  tenure                               3913 non-null   float64       \n",
      "dtypes: datetime64[ns](1), float64(2), int64(1), object(8)\n",
      "memory usage: 406.2+ KB\n"
     ]
    }
   ],
   "source": [
    "data_demo.info()"
   ]
  },
  {
   "cell_type": "code",
   "execution_count": 7,
   "id": "17a5fdfa",
   "metadata": {},
   "outputs": [
    {
     "data": {
      "text/html": [
       "<div>\n",
       "<style scoped>\n",
       "    .dataframe tbody tr th:only-of-type {\n",
       "        vertical-align: middle;\n",
       "    }\n",
       "\n",
       "    .dataframe tbody tr th {\n",
       "        vertical-align: top;\n",
       "    }\n",
       "\n",
       "    .dataframe thead th {\n",
       "        text-align: right;\n",
       "    }\n",
       "</style>\n",
       "<table border=\"1\" class=\"dataframe\">\n",
       "  <thead>\n",
       "    <tr style=\"text-align: right;\">\n",
       "      <th></th>\n",
       "      <th>first_name</th>\n",
       "      <th>last_name</th>\n",
       "      <th>gender</th>\n",
       "      <th>past_3_years_bike_related_purchases</th>\n",
       "      <th>DOB</th>\n",
       "      <th>Age</th>\n",
       "      <th>job_title</th>\n",
       "      <th>job_industry_category</th>\n",
       "      <th>wealth_segment</th>\n",
       "      <th>deceased_indicator</th>\n",
       "      <th>owns_car</th>\n",
       "      <th>tenure</th>\n",
       "      <th>Age_category(yrs.)</th>\n",
       "    </tr>\n",
       "    <tr>\n",
       "      <th>customer_id</th>\n",
       "      <th></th>\n",
       "      <th></th>\n",
       "      <th></th>\n",
       "      <th></th>\n",
       "      <th></th>\n",
       "      <th></th>\n",
       "      <th></th>\n",
       "      <th></th>\n",
       "      <th></th>\n",
       "      <th></th>\n",
       "      <th></th>\n",
       "      <th></th>\n",
       "      <th></th>\n",
       "    </tr>\n",
       "  </thead>\n",
       "  <tbody>\n",
       "    <tr>\n",
       "      <th>1</th>\n",
       "      <td>Laraine</td>\n",
       "      <td>Medendorp</td>\n",
       "      <td>Female</td>\n",
       "      <td>93</td>\n",
       "      <td>1953-10-12</td>\n",
       "      <td>68.169821</td>\n",
       "      <td>Executive Secretary</td>\n",
       "      <td>Health</td>\n",
       "      <td>Mass Customer</td>\n",
       "      <td>N</td>\n",
       "      <td>Yes</td>\n",
       "      <td>11.0</td>\n",
       "      <td>Senior Citizen(61-100)</td>\n",
       "    </tr>\n",
       "    <tr>\n",
       "      <th>2</th>\n",
       "      <td>Eli</td>\n",
       "      <td>Bockman</td>\n",
       "      <td>Male</td>\n",
       "      <td>81</td>\n",
       "      <td>1980-12-16</td>\n",
       "      <td>40.972561</td>\n",
       "      <td>Administrative Officer</td>\n",
       "      <td>Financial Services</td>\n",
       "      <td>Mass Customer</td>\n",
       "      <td>N</td>\n",
       "      <td>Yes</td>\n",
       "      <td>16.0</td>\n",
       "      <td>Adult(25-49)</td>\n",
       "    </tr>\n",
       "    <tr>\n",
       "      <th>3</th>\n",
       "      <td>Arlin</td>\n",
       "      <td>Dearle</td>\n",
       "      <td>Male</td>\n",
       "      <td>61</td>\n",
       "      <td>1954-01-20</td>\n",
       "      <td>67.895848</td>\n",
       "      <td>Recruiting Manager</td>\n",
       "      <td>Property</td>\n",
       "      <td>Mass Customer</td>\n",
       "      <td>N</td>\n",
       "      <td>Yes</td>\n",
       "      <td>15.0</td>\n",
       "      <td>Senior Citizen(61-100)</td>\n",
       "    </tr>\n",
       "    <tr>\n",
       "      <th>4</th>\n",
       "      <td>Talbot</td>\n",
       "      <td>NaN</td>\n",
       "      <td>Male</td>\n",
       "      <td>33</td>\n",
       "      <td>1961-10-03</td>\n",
       "      <td>60.188999</td>\n",
       "      <td>NaN</td>\n",
       "      <td>IT</td>\n",
       "      <td>Mass Customer</td>\n",
       "      <td>N</td>\n",
       "      <td>No</td>\n",
       "      <td>7.0</td>\n",
       "      <td>Senior Citizen(61-100)</td>\n",
       "    </tr>\n",
       "  </tbody>\n",
       "</table>\n",
       "</div>"
      ],
      "text/plain": [
       "            first_name  last_name  gender  \\\n",
       "customer_id                                 \n",
       "1              Laraine  Medendorp  Female   \n",
       "2                  Eli    Bockman    Male   \n",
       "3                Arlin     Dearle    Male   \n",
       "4               Talbot        NaN    Male   \n",
       "\n",
       "             past_3_years_bike_related_purchases        DOB        Age  \\\n",
       "customer_id                                                              \n",
       "1                                             93 1953-10-12  68.169821   \n",
       "2                                             81 1980-12-16  40.972561   \n",
       "3                                             61 1954-01-20  67.895848   \n",
       "4                                             33 1961-10-03  60.188999   \n",
       "\n",
       "                          job_title job_industry_category wealth_segment  \\\n",
       "customer_id                                                                \n",
       "1               Executive Secretary                Health  Mass Customer   \n",
       "2            Administrative Officer    Financial Services  Mass Customer   \n",
       "3                Recruiting Manager              Property  Mass Customer   \n",
       "4                               NaN                    IT  Mass Customer   \n",
       "\n",
       "            deceased_indicator owns_car  tenure      Age_category(yrs.)  \n",
       "customer_id                                                              \n",
       "1                            N      Yes    11.0  Senior Citizen(61-100)  \n",
       "2                            N      Yes    16.0            Adult(25-49)  \n",
       "3                            N      Yes    15.0  Senior Citizen(61-100)  \n",
       "4                            N       No     7.0  Senior Citizen(61-100)  "
      ]
     },
     "execution_count": 7,
     "metadata": {},
     "output_type": "execute_result"
    }
   ],
   "source": [
    "data_demo.loc[data_demo['Age'] < 100, 'Age_category(yrs.)'] = 'Senior Citizen(61-100)'\n",
    "data_demo.loc[data_demo['Age'] < 60, 'Age_category(yrs.)'] = 'Senior Adult(50-60)'\n",
    "data_demo.loc[data_demo['Age'] < 49, 'Age_category(yrs.)'] = 'Adult(25-49)'\n",
    "data_demo.loc[data_demo['Age'] < 24, 'Age_category(yrs.)'] = 'Youth(<24)'\n",
    "\n",
    "data_demo.head(4)"
   ]
  },
  {
   "cell_type": "code",
   "execution_count": 8,
   "id": "2778f2ff",
   "metadata": {},
   "outputs": [
    {
     "data": {
      "text/html": [
       "<div>\n",
       "<style scoped>\n",
       "    .dataframe tbody tr th:only-of-type {\n",
       "        vertical-align: middle;\n",
       "    }\n",
       "\n",
       "    .dataframe tbody tr th {\n",
       "        vertical-align: top;\n",
       "    }\n",
       "\n",
       "    .dataframe thead th {\n",
       "        text-align: right;\n",
       "    }\n",
       "</style>\n",
       "<table border=\"1\" class=\"dataframe\">\n",
       "  <thead>\n",
       "    <tr style=\"text-align: right;\">\n",
       "      <th></th>\n",
       "      <th>first_name</th>\n",
       "      <th>last_name</th>\n",
       "      <th>gender</th>\n",
       "      <th>past_3_years_bike_related_purchases</th>\n",
       "      <th>DOB</th>\n",
       "      <th>Age</th>\n",
       "      <th>job_title</th>\n",
       "      <th>job_industry_category</th>\n",
       "      <th>wealth_segment</th>\n",
       "      <th>deceased_indicator</th>\n",
       "      <th>owns_car</th>\n",
       "      <th>tenure</th>\n",
       "      <th>Age_category(yrs.)</th>\n",
       "    </tr>\n",
       "    <tr>\n",
       "      <th>customer_id</th>\n",
       "      <th></th>\n",
       "      <th></th>\n",
       "      <th></th>\n",
       "      <th></th>\n",
       "      <th></th>\n",
       "      <th></th>\n",
       "      <th></th>\n",
       "      <th></th>\n",
       "      <th></th>\n",
       "      <th></th>\n",
       "      <th></th>\n",
       "      <th></th>\n",
       "      <th></th>\n",
       "    </tr>\n",
       "  </thead>\n",
       "  <tbody>\n",
       "    <tr>\n",
       "      <th>1</th>\n",
       "      <td>Laraine</td>\n",
       "      <td>Medendorp</td>\n",
       "      <td>Female</td>\n",
       "      <td>93</td>\n",
       "      <td>1953-10-12</td>\n",
       "      <td>68</td>\n",
       "      <td>Executive Secretary</td>\n",
       "      <td>Health</td>\n",
       "      <td>Mass Customer</td>\n",
       "      <td>N</td>\n",
       "      <td>Yes</td>\n",
       "      <td>11.0</td>\n",
       "      <td>Senior Citizen(61-100)</td>\n",
       "    </tr>\n",
       "    <tr>\n",
       "      <th>2</th>\n",
       "      <td>Eli</td>\n",
       "      <td>Bockman</td>\n",
       "      <td>Male</td>\n",
       "      <td>81</td>\n",
       "      <td>1980-12-16</td>\n",
       "      <td>40</td>\n",
       "      <td>Administrative Officer</td>\n",
       "      <td>Financial Services</td>\n",
       "      <td>Mass Customer</td>\n",
       "      <td>N</td>\n",
       "      <td>Yes</td>\n",
       "      <td>16.0</td>\n",
       "      <td>Adult(25-49)</td>\n",
       "    </tr>\n",
       "    <tr>\n",
       "      <th>3</th>\n",
       "      <td>Arlin</td>\n",
       "      <td>Dearle</td>\n",
       "      <td>Male</td>\n",
       "      <td>61</td>\n",
       "      <td>1954-01-20</td>\n",
       "      <td>67</td>\n",
       "      <td>Recruiting Manager</td>\n",
       "      <td>Property</td>\n",
       "      <td>Mass Customer</td>\n",
       "      <td>N</td>\n",
       "      <td>Yes</td>\n",
       "      <td>15.0</td>\n",
       "      <td>Senior Citizen(61-100)</td>\n",
       "    </tr>\n",
       "    <tr>\n",
       "      <th>4</th>\n",
       "      <td>Talbot</td>\n",
       "      <td>NaN</td>\n",
       "      <td>Male</td>\n",
       "      <td>33</td>\n",
       "      <td>1961-10-03</td>\n",
       "      <td>60</td>\n",
       "      <td>NaN</td>\n",
       "      <td>IT</td>\n",
       "      <td>Mass Customer</td>\n",
       "      <td>N</td>\n",
       "      <td>No</td>\n",
       "      <td>7.0</td>\n",
       "      <td>Senior Citizen(61-100)</td>\n",
       "    </tr>\n",
       "    <tr>\n",
       "      <th>5</th>\n",
       "      <td>Sheila-kathryn</td>\n",
       "      <td>Calton</td>\n",
       "      <td>Female</td>\n",
       "      <td>56</td>\n",
       "      <td>1977-05-13</td>\n",
       "      <td>44</td>\n",
       "      <td>Senior Editor</td>\n",
       "      <td>NaN</td>\n",
       "      <td>Affluent Customer</td>\n",
       "      <td>N</td>\n",
       "      <td>Yes</td>\n",
       "      <td>8.0</td>\n",
       "      <td>Adult(25-49)</td>\n",
       "    </tr>\n",
       "  </tbody>\n",
       "</table>\n",
       "</div>"
      ],
      "text/plain": [
       "                 first_name  last_name  gender  \\\n",
       "customer_id                                      \n",
       "1                   Laraine  Medendorp  Female   \n",
       "2                       Eli    Bockman    Male   \n",
       "3                     Arlin     Dearle    Male   \n",
       "4                    Talbot        NaN    Male   \n",
       "5            Sheila-kathryn     Calton  Female   \n",
       "\n",
       "             past_3_years_bike_related_purchases        DOB  Age  \\\n",
       "customer_id                                                        \n",
       "1                                             93 1953-10-12   68   \n",
       "2                                             81 1980-12-16   40   \n",
       "3                                             61 1954-01-20   67   \n",
       "4                                             33 1961-10-03   60   \n",
       "5                                             56 1977-05-13   44   \n",
       "\n",
       "                          job_title job_industry_category     wealth_segment  \\\n",
       "customer_id                                                                    \n",
       "1               Executive Secretary                Health      Mass Customer   \n",
       "2            Administrative Officer    Financial Services      Mass Customer   \n",
       "3                Recruiting Manager              Property      Mass Customer   \n",
       "4                               NaN                    IT      Mass Customer   \n",
       "5                     Senior Editor                   NaN  Affluent Customer   \n",
       "\n",
       "            deceased_indicator owns_car  tenure      Age_category(yrs.)  \n",
       "customer_id                                                              \n",
       "1                            N      Yes    11.0  Senior Citizen(61-100)  \n",
       "2                            N      Yes    16.0            Adult(25-49)  \n",
       "3                            N      Yes    15.0  Senior Citizen(61-100)  \n",
       "4                            N       No     7.0  Senior Citizen(61-100)  \n",
       "5                            N      Yes     8.0            Adult(25-49)  "
      ]
     },
     "execution_count": 8,
     "metadata": {},
     "output_type": "execute_result"
    }
   ],
   "source": [
    "data_demo=data_demo.dropna(subset = ['Age'],axis=0,how='any')\n",
    "data_demo['Age'].isna().sum()\n",
    "data_demo['Age']=data_demo['Age'].astype('int')\n",
    "data_demo.head()"
   ]
  },
  {
   "cell_type": "code",
   "execution_count": 9,
   "id": "42eaae85",
   "metadata": {},
   "outputs": [
    {
     "data": {
      "image/png": "[encoded data removed]",
      "text/plain": [
       "<Figure size 576x432 with 1 Axes>"
      ]
     },
     "metadata": {
      "needs_background": "light"
     },
     "output_type": "display_data"
    }
   ],
   "source": [
    "#Customers of different age groups\n",
    "import seaborn as sns\n",
    "plt.figure(figsize=(8,6))\n",
    "sns.countplot(x='Age_category(yrs.)', data= data_demo, palette='hls')\n",
    "plt.xticks(rotation =75)\n",
    "plt.title('Customers of different age group',fontsize=20)\n",
    "plt.xlabel('Age_category(yrs.)',fontsize=15)\n",
    "plt.ylabel('Customer count',fontsize=15)\n",
    "plt.show()"
   ]
  },
  {
   "cell_type": "code",
   "execution_count": 10,
   "id": "f4ac746d",
   "metadata": {},
   "outputs": [
    {
     "data": {
      "text/html": [
       "<div>\n",
       "<style scoped>\n",
       "    .dataframe tbody tr th:only-of-type {\n",
       "        vertical-align: middle;\n",
       "    }\n",
       "\n",
       "    .dataframe tbody tr th {\n",
       "        vertical-align: top;\n",
       "    }\n",
       "\n",
       "    .dataframe thead th {\n",
       "        text-align: right;\n",
       "    }\n",
       "</style>\n",
       "<table border=\"1\" class=\"dataframe\">\n",
       "  <thead>\n",
       "    <tr style=\"text-align: right;\">\n",
       "      <th></th>\n",
       "      <th>address</th>\n",
       "      <th>postcode</th>\n",
       "      <th>state</th>\n",
       "      <th>country</th>\n",
       "      <th>property_valuation</th>\n",
       "      <th>Unnamed: 6</th>\n",
       "      <th>Unnamed: 7</th>\n",
       "      <th>Unnamed: 8</th>\n",
       "      <th>Unnamed: 9</th>\n",
       "      <th>Unnamed: 10</th>\n",
       "    </tr>\n",
       "    <tr>\n",
       "      <th>customer_id</th>\n",
       "      <th></th>\n",
       "      <th></th>\n",
       "      <th></th>\n",
       "      <th></th>\n",
       "      <th></th>\n",
       "      <th></th>\n",
       "      <th></th>\n",
       "      <th></th>\n",
       "      <th></th>\n",
       "      <th></th>\n",
       "    </tr>\n",
       "  </thead>\n",
       "  <tbody>\n",
       "    <tr>\n",
       "      <th>1</th>\n",
       "      <td>060 Morning Avenue</td>\n",
       "      <td>2016</td>\n",
       "      <td>NSW</td>\n",
       "      <td>Australia</td>\n",
       "      <td>10</td>\n",
       "      <td>NaN</td>\n",
       "      <td>NaN</td>\n",
       "      <td>NaN</td>\n",
       "      <td>NaN</td>\n",
       "      <td>NSW</td>\n",
       "    </tr>\n",
       "    <tr>\n",
       "      <th>2</th>\n",
       "      <td>6 Meadow Vale Court</td>\n",
       "      <td>2153</td>\n",
       "      <td>New South Wales</td>\n",
       "      <td>Australia</td>\n",
       "      <td>10</td>\n",
       "      <td>NaN</td>\n",
       "      <td>NaN</td>\n",
       "      <td>NSW</td>\n",
       "      <td>NSW</td>\n",
       "      <td>NSW</td>\n",
       "    </tr>\n",
       "    <tr>\n",
       "      <th>4</th>\n",
       "      <td>0 Holy Cross Court</td>\n",
       "      <td>4211</td>\n",
       "      <td>QLD</td>\n",
       "      <td>Australia</td>\n",
       "      <td>9</td>\n",
       "      <td>NaN</td>\n",
       "      <td>NaN</td>\n",
       "      <td>New South Wales</td>\n",
       "      <td>NSW</td>\n",
       "      <td>QLD</td>\n",
       "    </tr>\n",
       "    <tr>\n",
       "      <th>5</th>\n",
       "      <td>17979 Del Mar Point</td>\n",
       "      <td>2448</td>\n",
       "      <td>NSW</td>\n",
       "      <td>Australia</td>\n",
       "      <td>4</td>\n",
       "      <td>NaN</td>\n",
       "      <td>NaN</td>\n",
       "      <td>QLD</td>\n",
       "      <td>QLD</td>\n",
       "      <td>NSW</td>\n",
       "    </tr>\n",
       "    <tr>\n",
       "      <th>6</th>\n",
       "      <td>9 Oakridge Court</td>\n",
       "      <td>3216</td>\n",
       "      <td>Victoria</td>\n",
       "      <td>Australia</td>\n",
       "      <td>9</td>\n",
       "      <td>NaN</td>\n",
       "      <td>NaN</td>\n",
       "      <td>VIC</td>\n",
       "      <td>VIC</td>\n",
       "      <td>VIC</td>\n",
       "    </tr>\n",
       "  </tbody>\n",
       "</table>\n",
       "</div>"
      ],
      "text/plain": [
       "                         address  postcode            state    country  \\\n",
       "customer_id                                                              \n",
       "1             060 Morning Avenue      2016              NSW  Australia   \n",
       "2            6 Meadow Vale Court      2153  New South Wales  Australia   \n",
       "4             0 Holy Cross Court      4211              QLD  Australia   \n",
       "5            17979 Del Mar Point      2448              NSW  Australia   \n",
       "6               9 Oakridge Court      3216         Victoria  Australia   \n",
       "\n",
       "             property_valuation  Unnamed: 6  Unnamed: 7       Unnamed: 8  \\\n",
       "customer_id                                                                \n",
       "1                            10         NaN         NaN              NaN   \n",
       "2                            10         NaN         NaN              NSW   \n",
       "4                             9         NaN         NaN  New South Wales   \n",
       "5                             4         NaN         NaN              QLD   \n",
       "6                             9         NaN         NaN              VIC   \n",
       "\n",
       "            Unnamed: 9 Unnamed: 10  \n",
       "customer_id                         \n",
       "1                  NaN         NSW  \n",
       "2                  NSW         NSW  \n",
       "4                  NSW         QLD  \n",
       "5                  QLD         NSW  \n",
       "6                  VIC         VIC  "
      ]
     },
     "execution_count": 10,
     "metadata": {},
     "output_type": "execute_result"
    }
   ],
   "source": [
    "data_add = pd.read_excel(file_name, sheet_name='CustomerAddress', index_col=0)\n",
    "data_add.head()"
   ]
  },
  {
   "cell_type": "code",
   "execution_count": 11,
   "id": "a6e15895",
   "metadata": {},
   "outputs": [],
   "source": [
    "state_rename={'New South Wales':'NSW','Victoria':'VIC'}\n",
    "data_add['state']=data_add['state'].replace(state_rename)"
   ]
  },
  {
   "cell_type": "code",
   "execution_count": 12,
   "id": "c7775a25",
   "metadata": {},
   "outputs": [
    {
     "data": {
      "text/html": [
       "<div>\n",
       "<style scoped>\n",
       "    .dataframe tbody tr th:only-of-type {\n",
       "        vertical-align: middle;\n",
       "    }\n",
       "\n",
       "    .dataframe tbody tr th {\n",
       "        vertical-align: top;\n",
       "    }\n",
       "\n",
       "    .dataframe thead th {\n",
       "        text-align: right;\n",
       "    }\n",
       "</style>\n",
       "<table border=\"1\" class=\"dataframe\">\n",
       "  <thead>\n",
       "    <tr style=\"text-align: right;\">\n",
       "      <th></th>\n",
       "      <th>address</th>\n",
       "      <th>postcode</th>\n",
       "      <th>state</th>\n",
       "      <th>country</th>\n",
       "      <th>property_valuation</th>\n",
       "    </tr>\n",
       "    <tr>\n",
       "      <th>customer_id</th>\n",
       "      <th></th>\n",
       "      <th></th>\n",
       "      <th></th>\n",
       "      <th></th>\n",
       "      <th></th>\n",
       "    </tr>\n",
       "  </thead>\n",
       "  <tbody>\n",
       "    <tr>\n",
       "      <th>1</th>\n",
       "      <td>060 Morning Avenue</td>\n",
       "      <td>2016</td>\n",
       "      <td>NSW</td>\n",
       "      <td>Australia</td>\n",
       "      <td>10</td>\n",
       "    </tr>\n",
       "    <tr>\n",
       "      <th>2</th>\n",
       "      <td>6 Meadow Vale Court</td>\n",
       "      <td>2153</td>\n",
       "      <td>NSW</td>\n",
       "      <td>Australia</td>\n",
       "      <td>10</td>\n",
       "    </tr>\n",
       "    <tr>\n",
       "      <th>4</th>\n",
       "      <td>0 Holy Cross Court</td>\n",
       "      <td>4211</td>\n",
       "      <td>QLD</td>\n",
       "      <td>Australia</td>\n",
       "      <td>9</td>\n",
       "    </tr>\n",
       "    <tr>\n",
       "      <th>5</th>\n",
       "      <td>17979 Del Mar Point</td>\n",
       "      <td>2448</td>\n",
       "      <td>NSW</td>\n",
       "      <td>Australia</td>\n",
       "      <td>4</td>\n",
       "    </tr>\n",
       "    <tr>\n",
       "      <th>6</th>\n",
       "      <td>9 Oakridge Court</td>\n",
       "      <td>3216</td>\n",
       "      <td>VIC</td>\n",
       "      <td>Australia</td>\n",
       "      <td>9</td>\n",
       "    </tr>\n",
       "  </tbody>\n",
       "</table>\n",
       "</div>"
      ],
      "text/plain": [
       "                         address  postcode state    country  \\\n",
       "customer_id                                                   \n",
       "1             060 Morning Avenue      2016   NSW  Australia   \n",
       "2            6 Meadow Vale Court      2153   NSW  Australia   \n",
       "4             0 Holy Cross Court      4211   QLD  Australia   \n",
       "5            17979 Del Mar Point      2448   NSW  Australia   \n",
       "6               9 Oakridge Court      3216   VIC  Australia   \n",
       "\n",
       "             property_valuation  \n",
       "customer_id                      \n",
       "1                            10  \n",
       "2                            10  \n",
       "4                             9  \n",
       "5                             4  \n",
       "6                             9  "
      ]
     },
     "execution_count": 12,
     "metadata": {},
     "output_type": "execute_result"
    }
   ],
   "source": [
    "data_add.drop(['Unnamed: 6','Unnamed: 7','Unnamed: 8','Unnamed: 9','Unnamed: 10'],axis=1,inplace=True)\n",
    "data_add.head()"
   ]
  },
  {
   "cell_type": "code",
   "execution_count": 13,
   "id": "21709dc4",
   "metadata": {},
   "outputs": [
    {
     "data": {
      "image/png": "[encoded data removed]",
      "text/plain": [
       "<Figure size 576x360 with 1 Axes>"
      ]
     },
     "metadata": {
      "needs_background": "light"
     },
     "output_type": "display_data"
    }
   ],
   "source": [
    "# Which state has more bike customers\n",
    "plt.figure(figsize=(8,5))\n",
    "plt.bar(data_add.state.unique(), data_add[\"state\"].value_counts())\n",
    "#So here index will give you x pos and data+1 will provide a little gap in y axis.\n",
    "for index, data in enumerate(data_add[\"state\"].value_counts()):\n",
    "    plt.text(x=index , y =data+1, s=data,horizontalalignment='center', fontdict=dict(fontsize=13))\n",
    "plt.tight_layout()\n",
    "\n",
    "plt.ylabel('Number of Customer')\n",
    "plt.xlabel('State')\n",
    "plt.title(\"Customer vs State\",fontsize=15)\n",
    "plt.show()"
   ]
  },
  {
   "cell_type": "markdown",
   "id": "7a03ef0e",
   "metadata": {},
   "source": [
    "A large number customers who purchased bikes and cycling accessories from Sprocket Central Pty Ltd belongs to \"NSW\" or New South Wales state category."
   ]
  },
  {
   "cell_type": "code",
   "execution_count": 14,
   "id": "eb477fba",
   "metadata": {},
   "outputs": [
    {
     "data": {
      "image/png": "[encoded data removed]",
      "text/plain": [
       "<Figure size 504x360 with 1 Axes>"
      ]
     },
     "metadata": {
      "needs_background": "light"
     },
     "output_type": "display_data"
    }
   ],
   "source": [
    "plt.figure(figsize=(7,5))\n",
    "bar_graph4 = plt.bar(data_demo.wealth_segment.unique(), data_demo[\"wealth_segment\"].value_counts())\n",
    "for index, data in enumerate(data_demo[\"wealth_segment\"].value_counts()):\n",
    "    plt.text(x=index , y =data+1, s=data,horizontalalignment='center', fontdict=dict(fontsize=12))\n",
    "bar_graph4[0].set_color('#FF5F9D')\n",
    "bar_graph4[1].set_color('#c471ed')\n",
    "bar_graph4[2].set_color('#2193b0')\n",
    "\n",
    "plt.ylabel('Number of customer')\n",
    "plt.xlabel('Wealth Segment')\n",
    "plt.title(\"No. of Customer vs Wealth Segment\",fontsize=15)\n",
    "plt.show()"
   ]
  },
  {
   "cell_type": "markdown",
   "id": "81b9fe57",
   "metadata": {},
   "source": [
    "A large number customers who purchased bikes and cycling accessories from Sprocket Central Pty Ltd belongs to \"Mass customer\" wealth segment category."
   ]
  },
  {
   "cell_type": "code",
   "execution_count": 15,
   "id": "1d8c189f",
   "metadata": {},
   "outputs": [
    {
     "data": {
      "text/html": [
       "<div>\n",
       "<style scoped>\n",
       "    .dataframe tbody tr th:only-of-type {\n",
       "        vertical-align: middle;\n",
       "    }\n",
       "\n",
       "    .dataframe tbody tr th {\n",
       "        vertical-align: top;\n",
       "    }\n",
       "\n",
       "    .dataframe thead th {\n",
       "        text-align: right;\n",
       "    }\n",
       "</style>\n",
       "<table border=\"1\" class=\"dataframe\">\n",
       "  <thead>\n",
       "    <tr style=\"text-align: right;\">\n",
       "      <th></th>\n",
       "      <th>product_id</th>\n",
       "      <th>customer_id</th>\n",
       "      <th>transaction_date</th>\n",
       "      <th>online_order</th>\n",
       "      <th>order_status</th>\n",
       "      <th>brand</th>\n",
       "      <th>product_line</th>\n",
       "      <th>product_class</th>\n",
       "      <th>product_size</th>\n",
       "      <th>list_price</th>\n",
       "      <th>...</th>\n",
       "      <th>Unnamed: 16</th>\n",
       "      <th>Unnamed: 17</th>\n",
       "      <th>Unnamed: 18</th>\n",
       "      <th>Unnamed: 19</th>\n",
       "      <th>Unnamed: 20</th>\n",
       "      <th>Unnamed: 21</th>\n",
       "      <th>Unnamed: 22</th>\n",
       "      <th>Unnamed: 23</th>\n",
       "      <th>Unnamed: 24</th>\n",
       "      <th>Unnamed: 25</th>\n",
       "    </tr>\n",
       "    <tr>\n",
       "      <th>transaction_id</th>\n",
       "      <th></th>\n",
       "      <th></th>\n",
       "      <th></th>\n",
       "      <th></th>\n",
       "      <th></th>\n",
       "      <th></th>\n",
       "      <th></th>\n",
       "      <th></th>\n",
       "      <th></th>\n",
       "      <th></th>\n",
       "      <th></th>\n",
       "      <th></th>\n",
       "      <th></th>\n",
       "      <th></th>\n",
       "      <th></th>\n",
       "      <th></th>\n",
       "      <th></th>\n",
       "      <th></th>\n",
       "      <th></th>\n",
       "      <th></th>\n",
       "      <th></th>\n",
       "    </tr>\n",
       "  </thead>\n",
       "  <tbody>\n",
       "    <tr>\n",
       "      <th>1.0</th>\n",
       "      <td>2.0</td>\n",
       "      <td>2950.0</td>\n",
       "      <td>2017-02-25</td>\n",
       "      <td>0.0</td>\n",
       "      <td>Approved</td>\n",
       "      <td>Solex</td>\n",
       "      <td>Standard</td>\n",
       "      <td>medium</td>\n",
       "      <td>medium</td>\n",
       "      <td>71.49</td>\n",
       "      <td>...</td>\n",
       "      <td>NaN</td>\n",
       "      <td>NaN</td>\n",
       "      <td>NaN</td>\n",
       "      <td>NaN</td>\n",
       "      <td>NaN</td>\n",
       "      <td>NaN</td>\n",
       "      <td>NaN</td>\n",
       "      <td>NaN</td>\n",
       "      <td>NaN</td>\n",
       "      <td>NaN</td>\n",
       "    </tr>\n",
       "    <tr>\n",
       "      <th>NaN</th>\n",
       "      <td>NaN</td>\n",
       "      <td>NaN</td>\n",
       "      <td>NaT</td>\n",
       "      <td>NaN</td>\n",
       "      <td>NaN</td>\n",
       "      <td>NaN</td>\n",
       "      <td>NaN</td>\n",
       "      <td>NaN</td>\n",
       "      <td>NaN</td>\n",
       "      <td>NaN</td>\n",
       "      <td>...</td>\n",
       "      <td>NaN</td>\n",
       "      <td>NaN</td>\n",
       "      <td>NaN</td>\n",
       "      <td>NaN</td>\n",
       "      <td>NaN</td>\n",
       "      <td>NaN</td>\n",
       "      <td>NaN</td>\n",
       "      <td>NaN</td>\n",
       "      <td>NaN</td>\n",
       "      <td>NaN</td>\n",
       "    </tr>\n",
       "    <tr>\n",
       "      <th>3.0</th>\n",
       "      <td>37.0</td>\n",
       "      <td>402.0</td>\n",
       "      <td>2017-10-16</td>\n",
       "      <td>0.0</td>\n",
       "      <td>Approved</td>\n",
       "      <td>OHM Cycles</td>\n",
       "      <td>Standard</td>\n",
       "      <td>low</td>\n",
       "      <td>medium</td>\n",
       "      <td>1793.43</td>\n",
       "      <td>...</td>\n",
       "      <td>NaN</td>\n",
       "      <td>NaN</td>\n",
       "      <td>NaN</td>\n",
       "      <td>NaN</td>\n",
       "      <td>NaN</td>\n",
       "      <td>NaN</td>\n",
       "      <td>NaN</td>\n",
       "      <td>NaN</td>\n",
       "      <td>NaN</td>\n",
       "      <td>NaN</td>\n",
       "    </tr>\n",
       "    <tr>\n",
       "      <th>4.0</th>\n",
       "      <td>88.0</td>\n",
       "      <td>3135.0</td>\n",
       "      <td>2017-08-31</td>\n",
       "      <td>0.0</td>\n",
       "      <td>Approved</td>\n",
       "      <td>Norco Bicycles</td>\n",
       "      <td>Standard</td>\n",
       "      <td>medium</td>\n",
       "      <td>medium</td>\n",
       "      <td>1198.46</td>\n",
       "      <td>...</td>\n",
       "      <td>NaN</td>\n",
       "      <td>NaN</td>\n",
       "      <td>NaN</td>\n",
       "      <td>NaN</td>\n",
       "      <td>NaN</td>\n",
       "      <td>NaN</td>\n",
       "      <td>NaN</td>\n",
       "      <td>NaN</td>\n",
       "      <td>NaN</td>\n",
       "      <td>NaN</td>\n",
       "    </tr>\n",
       "    <tr>\n",
       "      <th>5.0</th>\n",
       "      <td>78.0</td>\n",
       "      <td>787.0</td>\n",
       "      <td>2017-10-01</td>\n",
       "      <td>1.0</td>\n",
       "      <td>Approved</td>\n",
       "      <td>Giant Bicycles</td>\n",
       "      <td>Standard</td>\n",
       "      <td>medium</td>\n",
       "      <td>large</td>\n",
       "      <td>1765.30</td>\n",
       "      <td>...</td>\n",
       "      <td>NaN</td>\n",
       "      <td>NaN</td>\n",
       "      <td>NaN</td>\n",
       "      <td>NaN</td>\n",
       "      <td>NaN</td>\n",
       "      <td>NaN</td>\n",
       "      <td>NaN</td>\n",
       "      <td>NaN</td>\n",
       "      <td>NaN</td>\n",
       "      <td>NaN</td>\n",
       "    </tr>\n",
       "  </tbody>\n",
       "</table>\n",
       "<p>5 rows × 25 columns</p>\n",
       "</div>"
      ],
      "text/plain": [
       "                product_id  customer_id transaction_date  online_order  \\\n",
       "transaction_id                                                           \n",
       "1.0                    2.0       2950.0       2017-02-25           0.0   \n",
       "NaN                    NaN          NaN              NaT           NaN   \n",
       "3.0                   37.0        402.0       2017-10-16           0.0   \n",
       "4.0                   88.0       3135.0       2017-08-31           0.0   \n",
       "5.0                   78.0        787.0       2017-10-01           1.0   \n",
       "\n",
       "               order_status           brand product_line product_class  \\\n",
       "transaction_id                                                           \n",
       "1.0                Approved           Solex     Standard        medium   \n",
       "NaN                     NaN             NaN          NaN           NaN   \n",
       "3.0                Approved      OHM Cycles     Standard           low   \n",
       "4.0                Approved  Norco Bicycles     Standard        medium   \n",
       "5.0                Approved  Giant Bicycles     Standard        medium   \n",
       "\n",
       "               product_size  list_price  ...  Unnamed: 16 Unnamed: 17  \\\n",
       "transaction_id                           ...                            \n",
       "1.0                  medium       71.49  ...          NaN         NaN   \n",
       "NaN                     NaN         NaN  ...          NaN         NaN   \n",
       "3.0                  medium     1793.43  ...          NaN         NaN   \n",
       "4.0                  medium     1198.46  ...          NaN         NaN   \n",
       "5.0                   large     1765.30  ...          NaN         NaN   \n",
       "\n",
       "                Unnamed: 18  Unnamed: 19  Unnamed: 20  Unnamed: 21  \\\n",
       "transaction_id                                                       \n",
       "1.0                     NaN          NaN          NaN          NaN   \n",
       "NaN                     NaN          NaN          NaN          NaN   \n",
       "3.0                     NaN          NaN          NaN          NaN   \n",
       "4.0                     NaN          NaN          NaN          NaN   \n",
       "5.0                     NaN          NaN          NaN          NaN   \n",
       "\n",
       "                Unnamed: 22  Unnamed: 23  Unnamed: 24  Unnamed: 25  \n",
       "transaction_id                                                      \n",
       "1.0                     NaN          NaN          NaN          NaN  \n",
       "NaN                     NaN          NaN          NaN          NaN  \n",
       "3.0                     NaN          NaN          NaN          NaN  \n",
       "4.0                     NaN          NaN          NaN          NaN  \n",
       "5.0                     NaN          NaN          NaN          NaN  \n",
       "\n",
       "[5 rows x 25 columns]"
      ]
     },
     "execution_count": 15,
     "metadata": {},
     "output_type": "execute_result"
    }
   ],
   "source": [
    "data_trans = pd.read_excel(file_name, sheet_name='Transactions', index_col=0)\n",
    "data_trans.head()"
   ]
  },
  {
   "cell_type": "code",
   "execution_count": 16,
   "id": "f3808e06",
   "metadata": {},
   "outputs": [],
   "source": [
    "data_trans.drop(['Unnamed: 16','Unnamed: 17','Unnamed: 18','Unnamed: 19','Unnamed: 20', 'Unnamed: 21',\n",
    "                'Unnamed: 22','Unnamed: 23','Unnamed: 24','Unnamed: 25','Unnamed: 14','Unnamed: 15'],axis=1,inplace=True)\n",
    "data_trans.head()\n",
    "data_trans = data_trans[data_trans['Profit'].notna()]"
   ]
  },
  {
   "cell_type": "code",
   "execution_count": 17,
   "id": "cf0b30e1",
   "metadata": {},
   "outputs": [
    {
     "name": "stdout",
     "output_type": "stream",
     "text": [
      "<class 'pandas.core.frame.DataFrame'>\n",
      "Float64Index: 19444 entries, 1.0 to 20000.0\n",
      "Data columns (total 13 columns):\n",
      " #   Column                   Non-Null Count  Dtype         \n",
      "---  ------                   --------------  -----         \n",
      " 0   product_id               19444 non-null  float64       \n",
      " 1   customer_id              19444 non-null  float64       \n",
      " 2   transaction_date         19444 non-null  datetime64[ns]\n",
      " 3   online_order             19444 non-null  float64       \n",
      " 4   order_status             19444 non-null  object        \n",
      " 5   brand                    19444 non-null  object        \n",
      " 6   product_line             19444 non-null  object        \n",
      " 7   product_class            19444 non-null  object        \n",
      " 8   product_size             19444 non-null  object        \n",
      " 9   list_price               19444 non-null  float64       \n",
      " 10  standard_cost            19444 non-null  float64       \n",
      " 11  product_first_sold_date  19444 non-null  object        \n",
      " 12  Profit                   19444 non-null  float64       \n",
      "dtypes: datetime64[ns](1), float64(6), object(6)\n",
      "memory usage: 2.1+ MB\n"
     ]
    }
   ],
   "source": [
    "data_trans.info()"
   ]
  },
  {
   "cell_type": "code",
   "execution_count": 18,
   "id": "65ded497",
   "metadata": {},
   "outputs": [],
   "source": [
    "import datetime\n",
    "data_trans['transaction_date']=pd.to_datetime(data_trans['transaction_date'])\n",
    "data_trans['Transaction_Month']=data_trans['transaction_date'].dt.month_name(locale = 'English')"
   ]
  },
  {
   "cell_type": "code",
   "execution_count": 19,
   "id": "0efa441d",
   "metadata": {},
   "outputs": [
    {
     "data": {
      "image/png": "[encoded data removed]",
      "text/plain": [
       "<Figure size 576x360 with 1 Axes>"
      ]
     },
     "metadata": {
      "needs_background": "light"
     },
     "output_type": "display_data"
    }
   ],
   "source": [
    "plt.figure(figsize=(8,5))\n",
    "plt.bar(data_trans.Transaction_Month.unique(), data_trans[\"Transaction_Month\"].value_counts())\n",
    "plt.xticks(rotation='vertical')\n",
    "plt.ylabel('Number of Customer')\n",
    "plt.xlabel('Month', color='r')\n",
    "plt.title(\"Customer vs Month\",fontsize=15)\n",
    "plt.show()"
   ]
  },
  {
   "cell_type": "code",
   "execution_count": 20,
   "id": "3a74b06d",
   "metadata": {},
   "outputs": [],
   "source": [
    "new_trans = pd.merge(data_demo, data_trans, on=\"customer_id\", how='inner')"
   ]
  },
  {
   "cell_type": "code",
   "execution_count": 21,
   "id": "d28c98a4",
   "metadata": {},
   "outputs": [
    {
     "data": {
      "text/plain": [
       "2183.0    14\n",
       "1068.0    14\n",
       "2476.0    14\n",
       "637.0     13\n",
       "2548.0    13\n",
       "          ..\n",
       "2807.0     1\n",
       "1448.0     1\n",
       "2135.0     1\n",
       "2749.0     1\n",
       "1569.0     1\n",
       "Name: customer_id, Length: 3490, dtype: int64"
      ]
     },
     "execution_count": 21,
     "metadata": {},
     "output_type": "execute_result"
    }
   ],
   "source": [
    "new_trans['customer_id'].value_counts()"
   ]
  },
  {
   "cell_type": "code",
   "execution_count": 22,
   "id": "65d9d864",
   "metadata": {},
   "outputs": [],
   "source": [
    "new_data=pd.merge(new_trans,data_add, on=\"customer_id\",how='inner')"
   ]
  },
  {
   "cell_type": "code",
   "execution_count": 23,
   "id": "f046556a",
   "metadata": {},
   "outputs": [
    {
     "data": {
      "text/plain": [
       "(19407, 32)"
      ]
     },
     "execution_count": 23,
     "metadata": {},
     "output_type": "execute_result"
    }
   ],
   "source": [
    "new_data.shape"
   ]
  },
  {
   "cell_type": "code",
   "execution_count": 24,
   "id": "e279b792",
   "metadata": {},
   "outputs": [
    {
     "data": {
      "text/plain": [
       "Index(['customer_id', 'first_name', 'last_name', 'gender',\n",
       "       'past_3_years_bike_related_purchases', 'DOB', 'Age', 'job_title',\n",
       "       'job_industry_category', 'wealth_segment', 'deceased_indicator',\n",
       "       'owns_car', 'tenure', 'Age_category(yrs.)', 'product_id',\n",
       "       'transaction_date', 'online_order', 'order_status', 'brand',\n",
       "       'product_line', 'product_class', 'product_size', 'list_price',\n",
       "       'standard_cost', 'product_first_sold_date', 'Profit',\n",
       "       'Transaction_Month', 'address', 'postcode', 'state', 'country',\n",
       "       'property_valuation'],\n",
       "      dtype='object')"
      ]
     },
     "execution_count": 24,
     "metadata": {},
     "output_type": "execute_result"
    }
   ],
   "source": [
    "new_data.columns"
   ]
  },
  {
   "cell_type": "code",
   "execution_count": 25,
   "id": "948df491",
   "metadata": {},
   "outputs": [
    {
     "data": {
      "image/png": "[encoded data removed]",
      "text/plain": [
       "<Figure size 720x504 with 1 Axes>"
      ]
     },
     "metadata": {
      "needs_background": "light"
     },
     "output_type": "display_data"
    }
   ],
   "source": [
    "plt.figure(figsize=(10,7))\n",
    "sns.boxplot(x='Transaction_Month', y='past_3_years_bike_related_purchases', data=new_data)\n",
    "plt.xlabel(\"Transaction month\", fontsize=15)\n",
    "plt.ylabel('past_3_years_bike_related_purchases',fontsize=13)\n",
    "plt.xticks(rotation='vertical')\n",
    "plt.show()"
   ]
  },
  {
   "cell_type": "markdown",
   "id": "509e0631",
   "metadata": {},
   "source": [
    "results = data_trans.groupby(\"product_size\").sum()\n",
    "\n",
    "fig, ax1=plt.subplots()\n",
    "\n",
    "ax2 = ax1.twinx()\n",
    "ax1.bar(x=data_trans[\"product_size\"].unique(),y=data_trans[\"product_size\"].value_counts(),color = '#3fada8')\n",
    "ax2.plot(x=data_trans.product_size.unique(),height=results[\"standard_cost\"],color= 'b-')\n",
    "\n",
    "ax1.set_xlabel('Product Size')\n",
    "ax1.set_ylabel('Number of Customer', color ='#3fada8')\n",
    "ax2.set_ylabel('Standard Cost ($)', color='b')\n",
    "plt.title(\"Number of Customer vs Product vs Standard Price ($)\")\n",
    "plt.show()"
   ]
  },
  {
   "cell_type": "code",
   "execution_count": 43,
   "id": "4568c24a",
   "metadata": {},
   "outputs": [
    {
     "data": {
      "image/png": "[encoded data removed]",
      "text/plain": [
       "<Figure size 720x504 with 1 Axes>"
      ]
     },
     "metadata": {
      "needs_background": "light"
     },
     "output_type": "display_data"
    }
   ],
   "source": [
    "plt.figure(figsize=(10,7))\n",
    "sns.countplot(x='job_industry_category', data= data_demo, palette='hls')\n",
    "\n",
    "plt.xticks(rotation ='vertical')\n",
    "plt.xlabel(\"Job Industry Category\",fontsize=13)\n",
    "plt.ylabel(\"Customer count\",fontsize=13)\n",
    "plt.title(\"Customers vs job industry\",fontsize=16)\n",
    "plt.show()"
   ]
  },
  {
   "cell_type": "markdown",
   "id": "267ba466",
   "metadata": {},
   "source": [
    "Most of the customers belong to Manufacturing and Financial services."
   ]
  },
  {
   "cell_type": "code",
   "execution_count": 44,
   "id": "f7d70260",
   "metadata": {},
   "outputs": [
    {
     "data": {
      "image/png": "[encoded data removed]",
      "text/plain": [
       "<Figure size 648x504 with 1 Axes>"
      ]
     },
     "metadata": {
      "needs_background": "light"
     },
     "output_type": "display_data"
    }
   ],
   "source": [
    "data_trans[\"Profit\"] = pd.to_numeric(data_trans[\"Profit\"])\n",
    "data_trans[\"list_price\"] = pd.to_numeric(data_trans[\"list_price\"])\n",
    "data_trans[\"standard_cost\"] = pd.to_numeric(data_trans[\"standard_cost\"])\n",
    "plt.figure(figsize=(9,7))\n",
    "plt.bar(data_trans.brand.unique(), data_trans[\"brand\"].value_counts())\n",
    "for index, data in enumerate(data_trans[\"brand\"].value_counts()):\n",
    "    plt.text(x=index , y =data+1, s=data,horizontalalignment='center', fontdict=dict(fontsize=12))\n",
    "\n",
    "plt.xticks(rotation = \"vertical\", size=10)\n",
    "plt.ylabel('Number of Customer',fontsize=13)\n",
    "plt.xlabel('Brand',fontsize=13)\n",
    "plt.title(\"No. of Customer vs Brand\",fontsize=16)\n",
    "plt.show()"
   ]
  },
  {
   "cell_type": "markdown",
   "id": "0c180f33",
   "metadata": {},
   "source": [
    "\"Solex\" brand bicycles the ones most purchased by the new customers."
   ]
  },
  {
   "cell_type": "code",
   "execution_count": 28,
   "id": "217a08ab",
   "metadata": {},
   "outputs": [
    {
     "data": {
      "image/png": "[encoded data removed]",
      "text/plain": [
       "<Figure size 648x504 with 1 Axes>"
      ]
     },
     "metadata": {
      "needs_background": "light"
     },
     "output_type": "display_data"
    }
   ],
   "source": [
    "gp = data_trans.groupby(\"brand\").sum()\n",
    "plt.figure(figsize=(9,7))\n",
    "plt.bar(data_trans.brand.unique(), gp[\"Profit\"])\n",
    "\n",
    "plt.xticks(rotation = \"vertical\", size=10)\n",
    "plt.ylabel('Number of Customer',fontsize=13)\n",
    "plt.xlabel('Brand',fontsize=13)\n",
    "plt.title(\"Profit($) vs Brand\",fontsize=16)\n",
    "plt.show()"
   ]
  },
  {
   "cell_type": "markdown",
   "id": "3c8066e1",
   "metadata": {},
   "source": [
    "\"Trek Bicycles\" brand is the most profitable brand."
   ]
  },
  {
   "cell_type": "code",
   "execution_count": 29,
   "id": "bfb3caad",
   "metadata": {},
   "outputs": [
    {
     "data": {
      "image/png": "[encoded data removed]",
      "text/plain": [
       "<Figure size 720x576 with 2 Axes>"
      ]
     },
     "metadata": {
      "needs_background": "light"
     },
     "output_type": "display_data"
    }
   ],
   "source": [
    "brand_group = data_trans.groupby('brand')\n",
    "list_price = brand_group.sum()['list_price']\n",
    "\n",
    "brands = [product for product, df in brand_group]\n",
    "#To prove that some products are ordered more because of their price.\n",
    "prices = data_trans.groupby('brand').mean()['standard_cost']\n",
    "\n",
    "fig, ax1=plt.subplots(figsize=(10,8))\n",
    "ax2 = ax1.twinx()\n",
    "ax1.bar(brands, list_price, color = 'yellow')\n",
    "ax2.plot(brands, prices, 'b-')\n",
    "\n",
    "ax1.set_xlabel('Brands',fontsize=13)\n",
    "ax1.set_ylabel('List/ Selling Price',fontsize=13)\n",
    "ax2.set_ylabel('Standard Price ($)', color='b',fontsize=13)\n",
    "ax1.set_xticklabels(brands, rotation = 90, size=10)\n",
    "plt.title(\"Selling Price vs Brands vs Standard Price ($)\",fontsize=16)\n",
    "plt.show()"
   ]
  },
  {
   "cell_type": "code",
   "execution_count": 31,
   "id": "c39e9f88",
   "metadata": {},
   "outputs": [
    {
     "data": {
      "text/plain": [
       "<Figure size 1080x792 with 0 Axes>"
      ]
     },
     "metadata": {},
     "output_type": "display_data"
    },
    {
     "data": {
      "image/png": "[encoded data removed]",
      "text/plain": [
       "<Figure size 468.875x360 with 1 Axes>"
      ]
     },
     "metadata": {
      "needs_background": "light"
     },
     "output_type": "display_data"
    }
   ],
   "source": [
    "plt.figure(figsize=(15,11))\n",
    "sns.catplot(x=\"product_size\", y=\"Profit\", hue=\"brand\", kind=\"bar\", data=data_trans)\n",
    "plt.show()"
   ]
  },
  {
   "cell_type": "markdown",
   "id": "d6f760f6",
   "metadata": {},
   "source": [
    "\"Trek bicycles\" and \"WeareA2B\" brands produce good profit in all range of products' size."
   ]
  },
  {
   "cell_type": "code",
   "execution_count": 38,
   "id": "39c66473",
   "metadata": {},
   "outputs": [
    {
     "data": {
      "image/png": "[encoded data removed]",
      "text/plain": [
       "<Figure size 576x504 with 2 Axes>"
      ]
     },
     "metadata": {
      "needs_background": "light"
     },
     "output_type": "display_data"
    }
   ],
   "source": [
    "results = data_trans.groupby(\"product_size\").sum()\n",
    "\n",
    "fig, ax1=plt.subplots(figsize=(8,7))\n",
    "\n",
    "ax2 = ax1.twinx()\n",
    "ax1.bar(data_trans.product_size.unique(), data_trans[\"product_size\"].value_counts(), color = 'pink')\n",
    "ax2.plot(data_trans.product_size.unique(), results[\"standard_cost\"], 'b-')\n",
    "\n",
    "ax1.set_xlabel('Product Size',fontsize=12)\n",
    "ax1.set_ylabel('Number of Customer', color ='g',fontsize=12)\n",
    "ax2.set_ylabel('Standard Cost ($)', color='b',fontsize=12)\n",
    "plt.title(\"Number of Customer vs Product vs Standard Price ($)\",fontsize=14)\n",
    "plt.show()"
   ]
  },
  {
   "cell_type": "markdown",
   "id": "a5cb28dc",
   "metadata": {},
   "source": [
    "From the graph it can clearly seen that large size products have higher demand. One of the main reason of highest sell of large size product is the lesser cost. According to this low price product attracts highest number of customers."
   ]
  }
 ],
 "metadata": {
  "kernelspec": {
   "display_name": "Python 3",
   "language": "python",
   "name": "python3"
  },
  "language_info": {
   "codemirror_mode": {
    "name": "ipython",
    "version": 3
   },
   "file_extension": ".py",
   "mimetype": "text/x-python",
   "name": "python",
   "nbconvert_exporter": "python",
   "pygments_lexer": "ipython3",
   "version": "3.8.8"
  }
 },
 "nbformat": 4,
 "nbformat_minor": 5
}
